{
 "cells": [
  {
   "cell_type": "markdown",
   "metadata": {},
   "source": [
    "Question-1:\n",
    "\n",
    "Analysis-1:\n",
    "\n",
    "CEO of Enron - Jeffrey Skilling\n",
    "CEO - Whom did he send and from whom did he receive most of the emails and what were the most frequent words they exchanged?"
   ]
  },
  {
   "cell_type": "code",
   "execution_count": 12,
   "metadata": {
    "collapsed": false,
    "scrolled": true
   },
   "outputs": [
    {
     "name": "stdout",
     "output_type": "stream",
     "text": [
      "Total number of inbox mails: 1496\n",
      "Total number of sent mails: 605\n"
     ]
    }
   ],
   "source": [
    "#To fetch all files of CEO Jeffrey Skilling's Inbox and Sent Mails \n",
    "\n",
    "import os\n",
    "from glob import glob\n",
    "import glob\n",
    "\n",
    "cwd_path = os.getcwd() \n",
    "root_dir_path=os.path.abspath(os.path.join(cwd_path, os.pardir)) #To get the parent directory of cwd\n",
    "root=root_dir_path.replace(\"\\\\\", \"/\")\n",
    "\n",
    "pattern = \"*\"\n",
    "\n",
    "inbox_start_dir1=root+'/data/enron/maildir/skilling-j/inbox'#Parent directory\n",
    "inbox_start_dir2=root+'/data/enron/maildir/skilling-j/notes_inbox'\n",
    "all_inbox_mails = []\n",
    "\n",
    "sent_start_dir1=root+'/data/enron/maildir/skilling-j/sent' # He is having 3 folders for sent mails\n",
    "sent_start_dir2=root+'/data/enron/maildir/skilling-j/sent_items' \n",
    "sent_start_dir3=root+'/data/enron/maildir/skilling-j/_sent_mail' \n",
    "all_sent_mails=[]\n",
    "\n",
    "#To fetch all inbox emails\n",
    "all_inbox_mails1 = glob.glob(inbox_start_dir1+'/*')\n",
    "all_inbox_mails2 = glob.glob(inbox_start_dir2+'/*')\n",
    "all_inbox_mails=all_inbox_mails1+all_inbox_mails2\n",
    "\n",
    "for filename in all_inbox_mails:\n",
    "    i = filename.find(\"genie\")\n",
    "    if i != -1:all_inbox_mails.remove(filename)\n",
    "    else:continue \n",
    "print('Total number of inbox mails:',len(all_inbox_mails))\n",
    "\n",
    "#To fetch all sent emails\n",
    "\n",
    "for dir,subdir,file in os.walk(sent_start_dir1):\n",
    "    #print(glob.glob(os.path.join(dir,pattern)))\n",
    "    all_sent_mails.extend(glob.glob(os.path.join(dir,pattern)))\n",
    "for dir,subdir,file in os.walk(sent_start_dir2):\n",
    "     all_sent_mails.extend(glob.glob(os.path.join(dir,pattern)))\n",
    "for dir,subdir,file in os.walk(sent_start_dir3):\n",
    "    all_sent_mails.extend(glob.glob(os.path.join(dir,pattern)))\n",
    "    \n",
    "print('Total number of sent mails:',len(all_sent_mails))\n",
    "\n",
    "\n"
   ]
  },
  {
   "cell_type": "code",
   "execution_count": 15,
   "metadata": {
    "collapsed": false
   },
   "outputs": [
    {
     "name": "stdout",
     "output_type": "stream",
     "text": [
      "Top 10 mail senders to Jeffrey Skilling: [('Thibodeaux, Kenneth ', 39), ('Dottie Kerr ', 30), ('\"Susan Varga\" ', 30), ('\"woody berry\" ', 26), ('\"Morris, David C.\" ', 22), ('\"Jim Dent\" ', 20), ('\"Chuck Paul\" ', 20), ('Enron Change Management Announcement@ENRO', 17), ('Amelia Alde', 15), ('Fred D Haulenbeek ', 13)]\n"
     ]
    }
   ],
   "source": [
    "#To fetch each Sender and the corresponding count of emails he sent to Jeffrey Skilling's Inbox\n",
    "#Top 10 email senders to Jeffrey Skilling:\n",
    "\n",
    "import glob\n",
    "import re\n",
    "import string\n",
    "import glob\n",
    "from email.parser import Parser\n",
    "import email\n",
    "\n",
    "senders_list=[] #To store all senders names\n",
    "\n",
    "for filename in all_inbox_mails: \n",
    "    with open(filename,'r',encoding='utf-8',errors='ignore') as file:\n",
    "        email = Parser().parsestr(file.read())\n",
    "        s = email['X-From']\n",
    "        end = s.find('<',0)\n",
    "        senders_list.append(s[0:end])\n",
    "                                  \n",
    "#Calculating the count of mails by each sender                                \n",
    "Sender_CountOfMails={} #To store sender and his corresponding count\n",
    "for x in senders_list:\n",
    "        if x in Sender_CountOfMails:\n",
    "            Sender_CountOfMails[x] += 1\n",
    "        else:\n",
    "            Sender_CountOfMails[x] = 1\n",
    "\n",
    "#Top 10 mail senders to Jeffrey Skilling:\n",
    "from operator import itemgetter   \n",
    "sort_Sender_CountOfMails=sorted(Sender_CountOfMails.items(), key=itemgetter(1),reverse=True) \n",
    "print('Top 10 mail senders to Jeffrey Skilling:', sort_Sender_CountOfMails[:10])\n",
    "\n"
   ]
  },
  {
   "cell_type": "code",
   "execution_count": 36,
   "metadata": {
    "collapsed": false
   },
   "outputs": [
    {
     "name": "stdout",
     "output_type": "stream",
     "text": [
      "Output Data is written to file.\n"
     ]
    }
   ],
   "source": [
    "#Writing top 10 mail senders to Jeffrey to excel\n",
    "\n",
    "#Writing the output of the analysis to excel\n",
    "\n",
    "import xlsxwriter\n",
    "import os\n",
    "\n",
    "cwd = os.getcwd() #To access the path of current working directory\n",
    "path=cwd+'/ana_1'\n",
    "\n",
    "# Create an excel workbook if not present and add a worksheet.\n",
    "if not os.path.exists(path+'/'+'Analysis_1_Top10Senders.xlsx'):\n",
    "    workbook = xlsxwriter.Workbook(path+'/'+'Analysis_1_Top10Senders.xlsx')\n",
    "\n",
    "    #Adding worksheet to the workbook\n",
    "    worksheet = workbook.add_worksheet('Top10Senders')\n",
    "\n",
    "    #Adding headers(title) to the columns\n",
    "    worksheet.write(0, 0, 'Sender Name')\n",
    "    worksheet.write(0, 1, 'Total Number of Emails')\n",
    "\n",
    "    # Setting rows and columns indexes\n",
    "    row = 1\n",
    "    col = 0\n",
    "\n",
    "    dict_length=10\n",
    "\n",
    "    for i in range(dict_length):\n",
    "        worksheet.write(row, col, sort_Sender_CountOfMails[i][0])#Sender name\n",
    "        worksheet.write(row, col+1, sort_Sender_CountOfMails[i][1])#Count of emails\n",
    "        i+=1\n",
    "        row+=1\n",
    "    workbook.close()\n",
    "    print('Output Data is written to file.')\n",
    "    \n",
    "else:\n",
    "    print('The file already exists.')"
   ]
  },
  {
   "cell_type": "code",
   "execution_count": 10,
   "metadata": {
    "collapsed": false
   },
   "outputs": [
    {
     "name": "stdout",
     "output_type": "stream",
     "text": [
      "Top 10 mail receivers from Jeffrey Skilling: [('Amelia Alde', 15), ('\"Mark Skilling\" ', 12), ('stanmarek@marekbros.co', 12), ('\"Skillin', 10), ('Erica Harris ', 10), ('Sherri Ser', 10), (' Kristin\" ', 10), (' Mark ', 9), (' David ', 8), ('Mike Buttrey ', 8)]\n"
     ]
    }
   ],
   "source": [
    "#To fetch each person to whom CEO sent mails and the corresponding count of emails Jeffrey Skilling's sent\n",
    "#Top 10 email receivers from Jeffrey Skilling:\n",
    "\n",
    "import glob\n",
    "import re\n",
    "import string\n",
    "import glob\n",
    "from email.parser import Parser\n",
    "import email\n",
    "\n",
    "receivers_list=[] #To store all names whom Jeffrey Skilling sent mails\n",
    "\n",
    "for filename in all_sent_mails: \n",
    "    with open(filename,'r',encoding='utf-8',errors='ignore') as file:\n",
    "        email = Parser().parsestr(file.read())\n",
    "        to_name=email['X-To']\n",
    "        #print(to_name)\n",
    "        to_names=to_name.split(',') #If a single mail has been sent to multiple people, consider each receiver seperately\n",
    "        for name in to_names:\n",
    "            #print(name)\n",
    "            end = name.find('<',0) #To fetch the receiver name alone not with </O=ENRON/OU=NA/CN=RECIPIENTS/CN=GSOLBER> and such\n",
    "            if name[0:end]=='':\n",
    "                 continue\n",
    "            else:\n",
    "                receivers_list.append(name[0:end])\n",
    "            \n",
    "            \n",
    "                                  \n",
    "#Calculating the count of mails by each sender                                \n",
    "Receiver_CountOfMails={}#To store sender and his corresponding count \n",
    "for x in receivers_list:\n",
    "        if x in Receiver_CountOfMails:\n",
    "            Receiver_CountOfMails[x] += 1\n",
    "        else:\n",
    "            Receiver_CountOfMails[x] = 1\n",
    "\n",
    "#Top 10 email receivers from Jeffrey Skilling:\n",
    "from operator import itemgetter   \n",
    "sort_Receiver_CountOfMails=sorted(Receiver_CountOfMails.items(), key=itemgetter(1),reverse=True) \n",
    "print('Top 10 mail receivers from Jeffrey Skilling:', sort_Receiver_CountOfMails[:10])\n"
   ]
  },
  {
   "cell_type": "code",
   "execution_count": 37,
   "metadata": {
    "collapsed": false
   },
   "outputs": [
    {
     "name": "stdout",
     "output_type": "stream",
     "text": [
      "Output Data is written to file.\n"
     ]
    }
   ],
   "source": [
    "#Writing top 10 email receivers from Jeffrey to excel\n",
    "\n",
    "#Writing the output of the analysis to excel\n",
    "\n",
    "import xlsxwriter\n",
    "import os\n",
    "\n",
    "cwd = os.getcwd() #To access the path of current working directory\n",
    "path=cwd+'/ana_1'\n",
    "\n",
    "# Create an excel workbook if not present and add a worksheet.\n",
    "if not os.path.exists(path+'/'+'Analysis_1_Top10Receivers.xlsx'):\n",
    "    workbook = xlsxwriter.Workbook(path+'/'+'Analysis_1_Top10Receivers.xlsx')\n",
    "\n",
    "    #Adding worksheet to the workbook\n",
    "    worksheet = workbook.add_worksheet('Top10Receivers')\n",
    "\n",
    "    #Adding headers(title) to the columns\n",
    "    worksheet.write(0, 0, 'Receiver Name')\n",
    "    worksheet.write(0, 1, 'Total Number of Emails')\n",
    "\n",
    "    # Setting rows and columns indexes\n",
    "    row = 1\n",
    "    col = 0\n",
    "\n",
    "    dict_length=10\n",
    "\n",
    "    for i in range(dict_length):\n",
    "        worksheet.write(row, col, sort_Receiver_CountOfMails[i][0])#Receiver name\n",
    "        worksheet.write(row, col+1, sort_Receiver_CountOfMails[i][1]) #Count of emails\n",
    "        i+=1\n",
    "        row+=1\n",
    "    workbook.close()\n",
    "    print('Output Data is written to file.')\n",
    "    \n",
    "else:\n",
    "    print('The file already exists.')"
   ]
  },
  {
   "cell_type": "code",
   "execution_count": 44,
   "metadata": {
    "collapsed": true
   },
   "outputs": [],
   "source": [
    "#Function to read inbox words from inbox files\n",
    "\n",
    "inbox_words=[] #List to store the words from the inbox files\n",
    "import string\n",
    "import nltk\n",
    "import glob\n",
    "import re\n",
    "import string\n",
    "import glob\n",
    "from email.parser import Parser\n",
    "import email\n",
    "\n",
    "wnl = nltk.WordNetLemmatizer()\n",
    "\n",
    "def read_inbox_words(filename): #Function to open and read each file and store words in the list\n",
    "    with open(filename,'r',encoding='utf-8',errors='ignore') as file:\n",
    "        email = Parser().parsestr(file.read())\n",
    "        content = email.get_payload()\n",
    "        end = content.find('From',0)\n",
    "        final_content=content[0:end]\n",
    "        tokens=nltk.word_tokenize(final_content)\n",
    "        for word in tokens:\n",
    "            word=word.lower() #Converting all words to lower case \n",
    "            table = str.maketrans(\"\", \"\", string.punctuation) #To remove punctuations\n",
    "            word = word.translate(table)\n",
    "            if word: #To remove blank strings which are formed if there is a punctuation as a word\n",
    "                            #(because of space spereation in a line)\n",
    "                if not word.isdigit(): # To remove numbers\n",
    "                    lemmatized_word=wnl.lemmatize(word) #LEMMATIZING the words \n",
    "                    if not lemmatized_word in ['of','the','a','an','for','my','thanks','new','do','thru','know','regard','more','ect','time','mr','email','cc','me','i','can','any','could','to','on','and','would','u','wa','your','yours','with','that','this','ha','http','no','at','from','all','not','in','you','is','s','will','be','it','we','have','are','or','our','am','pm','if','by','please']: #To ignore common words\n",
    "                        inbox_words.append(lemmatized_word)"
   ]
  },
  {
   "cell_type": "code",
   "execution_count": 45,
   "metadata": {
    "collapsed": false,
    "scrolled": true
   },
   "outputs": [
    {
     "name": "stdout",
     "output_type": "stream",
     "text": [
      "Total number of words in inbox mails:  194723\n",
      "Top 10 words from Jeffrey Skilling inbox: [('enron', 1612), ('image', 1424), ('company', 790), ('energy', 740), ('business', 673), ('year', 651), ('outage', 640), ('information', 628), ('jeff', 553), ('service', 549)]\n"
     ]
    }
   ],
   "source": [
    "# To fetch the most frequent words in Jeffrey's inbox mails:\n",
    "\n",
    "for filename in all_inbox_mails: \n",
    "    read_inbox_words(filename)\n",
    "\n",
    "total_no_of_words=len(inbox_words)\n",
    "\n",
    "print('Total number of words in inbox mails: ',total_no_of_words)\n",
    "\n",
    "wordfrequency={} #To calculate the frequency of each word in the list\n",
    "for x in inbox_words:\n",
    "    if x in wordfrequency:\n",
    "        wordfrequency[x] += 1\n",
    "    else:\n",
    "         wordfrequency[x] = 1\n",
    "            \n",
    "#Top 10 most frequent inbox words\n",
    "from operator import itemgetter \n",
    "sort_wordfrequency=sorted(wordfrequency.items(), key=itemgetter(1),reverse=True)\n",
    "print('Top 10 words from Jeffrey Skilling inbox:', sort_wordfrequency[:10])\n",
    "            \n",
    "\n",
    "        \n"
   ]
  },
  {
   "cell_type": "code",
   "execution_count": 46,
   "metadata": {
    "collapsed": false
   },
   "outputs": [
    {
     "name": "stdout",
     "output_type": "stream",
     "text": [
      "Output Data is written to file.\n"
     ]
    }
   ],
   "source": [
    "#Writing Top 10 words from Jeffrey Skilling inbox to excel\n",
    "\n",
    "#Writing the output of the analysis to excel\n",
    "\n",
    "import xlsxwriter\n",
    "import os\n",
    "\n",
    "cwd = os.getcwd()\n",
    "path=cwd+'/ana_1'\n",
    "\n",
    "# Create an excel workbook if not present and add a worksheet.\n",
    "if not os.path.exists(path+'/'+'Analysis_1_Top10_Inbox_Words.xlsx'):\n",
    "    workbook = xlsxwriter.Workbook(path+'/'+'Analysis_1_Top10_Inbox_Words.xlsx')\n",
    "\n",
    "    #Adding worksheet to the workbook\n",
    "    worksheet = workbook.add_worksheet('Top10InboxWords')\n",
    "\n",
    "    #Adding headers(title) to the columns\n",
    "    worksheet.write(0, 0, 'Inbox Word')\n",
    "    worksheet.write(0, 1, 'Total Number of Emails')\n",
    "\n",
    "    # Setting rows and columns indexes\n",
    "    row = 1\n",
    "    col = 0\n",
    "\n",
    "    dict_length=10\n",
    "\n",
    "    for i in range(dict_length):\n",
    "        worksheet.write(row, col, sort_wordfrequency[i][0])#Inbox word\n",
    "        worksheet.write(row, col+1, sort_wordfrequency[i][1]) #Count\n",
    "        i+=1\n",
    "        row+=1\n",
    "    workbook.close()\n",
    "    print('Output Data is written to file.')\n",
    "    \n",
    "else:\n",
    "    print('The file already exists.')"
   ]
  },
  {
   "cell_type": "code",
   "execution_count": 39,
   "metadata": {
    "collapsed": false
   },
   "outputs": [],
   "source": [
    "#Function to read words from sent files\n",
    "\n",
    "sent_words=[] #List to store the words from the sent files\n",
    "import string\n",
    "import nltk\n",
    "import glob\n",
    "import re\n",
    "import string\n",
    "import glob\n",
    "from email.parser import Parser\n",
    "import email\n",
    "\n",
    "wnl = nltk.WordNetLemmatizer()\n",
    "\n",
    "def read_sent_words(filename): #Function to open and read sent file and store words in the list\n",
    "    with open(filename,'r',encoding='utf-8',errors='ignore') as file:\n",
    "        email = Parser().parsestr(file.read())\n",
    "        content = email.get_payload()\n",
    "        end = content.find('From',0)\n",
    "        final_content=content[0:end]\n",
    "        tokens=nltk.word_tokenize(final_content)\n",
    "        for word in tokens:\n",
    "            word=word.lower() #Converting all words to lower case \n",
    "            table = str.maketrans(\"\", \"\", string.punctuation) #To remove punctuations\n",
    "            word = word.translate(table)\n",
    "            if word: #To remove blank strings which are formed if there is a punctuation as a word\n",
    "                            #(because of space spereation in a line)\n",
    "                if not word.isdigit(): # To remove numbers\n",
    "                    lemmatized_word=wnl.lemmatize(word) #LEMMATIZING the words\n",
    "                    if not lemmatized_word in ['of','the','a','an','for','thanks','may','let','email','sr','do','thru','new','know','regard','more','ect','mr','time','cc','me','he','i','my','can','any','could','to','on','would','u','wa','and','your','yours','with','that','this','ha','http','no','at','from','all','not','in','you','is','s','will','be','it','we','have','are','or','our','am','pm','if','by','please']: #To ignore common words\n",
    "                        sent_words.append(lemmatized_word)"
   ]
  },
  {
   "cell_type": "code",
   "execution_count": 41,
   "metadata": {
    "collapsed": false
   },
   "outputs": [
    {
     "name": "stdout",
     "output_type": "stream",
     "text": [
      "Total number of words in sent mails:  111808\n",
      "Top 10 words from Jeffrey Skilling sent mails: [('enron', 2190), ('jeff', 2024), ('skilling', 964), ('enroncom', 900), ('subject', 870), ('sherri', 582), ('jeffskilling', 468), ('call', 426), ('houston', 422), ('fax', 420)]\n"
     ]
    }
   ],
   "source": [
    "# To fetch the most frequent words in Jeffrey's sent mails:\n",
    "\n",
    "for filename in all_sent_mails: \n",
    "    read_sent_words(filename)\n",
    "\n",
    "total_no_of_words=len(sent_words)\n",
    "\n",
    "print('Total number of words in sent mails: ',total_no_of_words)\n",
    "\n",
    "wordfrequency_outbox={} #To calculate the frequency of each word in the list\n",
    "for x in sent_words:\n",
    "    if x in wordfrequency_outbox:\n",
    "        wordfrequency_outbox[x] += 1\n",
    "    else:\n",
    "         wordfrequency_outbox[x] = 1\n",
    "            \n",
    "#Top 10 most frequent outbox words\n",
    "from operator import itemgetter \n",
    "sort_wordfrequency_outbox=sorted(wordfrequency_outbox.items(), key=itemgetter(1),reverse=True) \n",
    "print('Top 10 words from Jeffrey Skilling sent mails:', sort_wordfrequency_outbox[:10])"
   ]
  },
  {
   "cell_type": "code",
   "execution_count": 47,
   "metadata": {
    "collapsed": false
   },
   "outputs": [
    {
     "name": "stdout",
     "output_type": "stream",
     "text": [
      "Output Data is written to file.\n"
     ]
    }
   ],
   "source": [
    "#Writing Top 10 words from Jeffrey Skilling outbox to excel\n",
    "\n",
    "#Writing the output of the analysis to excel\n",
    "\n",
    "import xlsxwriter\n",
    "import os\n",
    "\n",
    "cwd = os.getcwd() #To access the path of current working directory\n",
    "path=cwd+'/ana_1'\n",
    "\n",
    "# Create an excel workbook if not present and add a worksheet.\n",
    "if not os.path.exists(path+'/'+'Analysis_1_Top10_Outbox_Words.xlsx'):\n",
    "    workbook = xlsxwriter.Workbook(path+'/'+'Analysis_1_Top10_Outbox_Words.xlsx')\n",
    "\n",
    "    #Adding worksheet to the workbook\n",
    "    worksheet = workbook.add_worksheet('Top10OutboxWords')\n",
    "\n",
    "    #Adding headers(title) to the columns\n",
    "    worksheet.write(0, 0, 'Outbox Word')\n",
    "    worksheet.write(0, 1, 'Total Number of Emails')\n",
    "\n",
    "    # Setting rows and columns indexes\n",
    "    row = 1\n",
    "    col = 0\n",
    "\n",
    "    dict_length=10\n",
    "\n",
    "    for i in range(dict_length):\n",
    "        worksheet.write(row, col, sort_wordfrequency_outbox[i][0])#Outbox word\n",
    "        worksheet.write(row, col+1, sort_wordfrequency[i][1]) #Corresponding count of word\n",
    "        i+=1\n",
    "        row+=1\n",
    "    workbook.close()\n",
    "    print('Output Data is written to file.')\n",
    "    \n",
    "else:\n",
    "    print('The file already exists.')"
   ]
  }
 ],
 "metadata": {
  "kernelspec": {
   "display_name": "Python [Root]",
   "language": "python",
   "name": "Python [Root]"
  },
  "language_info": {
   "codemirror_mode": {
    "name": "ipython",
    "version": 3
   },
   "file_extension": ".py",
   "mimetype": "text/x-python",
   "name": "python",
   "nbconvert_exporter": "python",
   "pygments_lexer": "ipython3",
   "version": "3.5.2"
  }
 },
 "nbformat": 4,
 "nbformat_minor": 0
}
