{
 "cells": [
  {
   "cell_type": "markdown",
   "metadata": {},
   "source": [
    "Question-1:\n",
    "\n",
    "Analysis-3:\n",
    "\n",
    "Anything other than office time has to considered as odd time.Here we consider the time between 10pm to 6am as Odd Time.\n",
    "(All the mails were sent in Pacific Time Zone)\n",
    "To count the number of emails sent by a person at an odd time\n",
    "\n"
   ]
  },
  {
   "cell_type": "code",
   "execution_count": 69,
   "metadata": {
    "collapsed": false
   },
   "outputs": [
    {
     "name": "stdout",
     "output_type": "stream",
     "text": [
      "Total number of sent mails from all persons:  57653\n"
     ]
    }
   ],
   "source": [
    "#To fetch all sent mails from each person\n",
    "import os\n",
    "from glob import glob\n",
    "import glob\n",
    "\n",
    "cwd_path = os.getcwd() \n",
    "root_dir_path=os.path.abspath(os.path.join(cwd_path, os.pardir)) #To get the parent directory of cwd\n",
    "root=root_dir_path.replace(\"\\\\\", \"/\")\n",
    "\n",
    "pattern = \"*\"\n",
    "\n",
    "all_sent_mails=[]\n",
    "\n",
    "sent_start_dir1=root+'/data/enron/maildir/'\n",
    "\n",
    "import os\n",
    "test_directory = sent_start_dir1\n",
    "\n",
    "for child in os.listdir(test_directory):\n",
    "    test_path = os.path.join(test_directory, child)\n",
    "    if os.path.isdir(test_path):\n",
    "        #print(test_path) \n",
    "        #t=test_path.find('/',0)# All persons folders\n",
    "        #print(t)\n",
    "        #if test_path in path:\n",
    "        if test_path+'/sent':\n",
    "            new_path=test_path+'/sent'\n",
    "            mails=glob.glob(new_path+'/*')\n",
    "            all_sent_mails+=mails\n",
    "            \n",
    "print('Total number of sent mails from all persons: ',len(all_sent_mails))\n",
    "        "
   ]
  },
  {
   "cell_type": "code",
   "execution_count": null,
   "metadata": {
    "collapsed": true
   },
   "outputs": [],
   "source": [
    "#Function to convert time to seconds\n",
    "import datetime\n",
    "def getSec(s):\n",
    "    L = s.split(':')\n",
    "    if len(L) == 1:\n",
    "         return L[0]\n",
    "    elif len(L) == 2:\n",
    "        datee = datetime.datetime.strptime(s, \"%M:%S\")\n",
    "        return datee.minute * 60 + datee.second\n",
    "    elif len(L) == 3:\n",
    "        datee = datetime.datetime.strptime(s, \"%H:%M:%S\")\n",
    "        return datee.hour * 3600 + datee.minute * 60 + datee.second"
   ]
  },
  {
   "cell_type": "code",
   "execution_count": 71,
   "metadata": {
    "collapsed": false
   },
   "outputs": [
    {
     "name": "stdout",
     "output_type": "stream",
     "text": [
      "122\n"
     ]
    }
   ],
   "source": [
    "#To count the number of emails sent at odd time by each person\n",
    "\n",
    "import glob\n",
    "import re\n",
    "import string\n",
    "import glob\n",
    "from email.parser import Parser\n",
    "import email\n",
    "\n",
    "senders_list=[] #To store all senders names\n",
    "\n",
    "for filename in all_sent_mails: \n",
    "    with open(filename,'r',encoding='utf-8',errors='ignore') as file:\n",
    "        email = Parser().parsestr(file.read())\n",
    "        sender= email['X-From'] #To fetch sender name\n",
    "        end = sender.find('<',0)\n",
    "        time=email['Date'][17:25].strip() #To fetch time of mail sent\n",
    "        time_in_sec=getSec(time) #Converting time to seconds\n",
    "        \n",
    "        #If time is in odd time add the sender to the list;else ignore\n",
    "        if (70200<time_in_sec<86399)|(0<time_in_sec<21600): #Odd time is Time in seconds between 10 pm to 6 am\n",
    "            senders_list.append(sender[0:end])\n",
    "                                  \n",
    "#Calculating the count of mails by each sender                                \n",
    "Sender_CountOfMails={} \n",
    "for x in senders_list:\n",
    "        if x in Sender_CountOfMails:\n",
    "            Sender_CountOfMails[x] += 1\n",
    "        else:\n",
    "            Sender_CountOfMails[x] = 1\n",
    "print(len(Sender_CountOfMails))"
   ]
  },
  {
   "cell_type": "code",
   "execution_count": 73,
   "metadata": {
    "collapsed": false
   },
   "outputs": [
    {
     "name": "stdout",
     "output_type": "stream",
     "text": [
      "The file already exists.\n"
     ]
    }
   ],
   "source": [
    "#Writing mail senders at odd time to excel\n",
    "\n",
    "#Writing the output of the analysis to excel\n",
    "\n",
    "import xlsxwriter\n",
    "import os\n",
    "\n",
    "cwd = os.getcwd() #To access the path of current working directory\n",
    "path=cwd+'/ana_3'\n",
    "\n",
    "# Create an excel workbook if not present and add a worksheet.\n",
    "if not os.path.exists(path+'/'+'Analysis_3_Odd_Time_Mail_Senders.xlsx'):\n",
    "    workbook = xlsxwriter.Workbook(path+'/'+'Analysis_3_Odd_Time_Mail_Senders.xlsx')\n",
    "\n",
    "    #Adding worksheet to the workbook\n",
    "    worksheet = workbook.add_worksheet('Odd_Time_Mail_Senders')\n",
    "\n",
    "    #Adding headers(title) to the columns\n",
    "    worksheet.write(0, 0, 'Sender Name')\n",
    "    worksheet.write(0, 1, 'Total Number of Emails')\n",
    "\n",
    "    # Setting rows and columns indexes\n",
    "    row = 1\n",
    "    col = 0\n",
    "\n",
    "    for key,value in Sender_CountOfMails.items():\n",
    "        worksheet.write(row, col, key) #Sender name\n",
    "        worksheet.write(row, col+1, value) #Count of emails\n",
    "        row+=1\n",
    "    workbook.close()\n",
    "    print('Output Data is written to file.')\n",
    "    \n",
    "else:\n",
    "    print('The file already exists.')"
   ]
  },
  {
   "cell_type": "code",
   "execution_count": 74,
   "metadata": {
    "collapsed": false
   },
   "outputs": [
    {
     "name": "stdout",
     "output_type": "stream",
     "text": [
      "Top 10 mail senders at odd time: [('Kay Man', 2571), ('Sara Shackleto', 2138), ('Tana Jone', 1889), ('Jeff Dasovic', 1823), ('Vince J Kaminsk', 1809), ('Chris German', 1247), ('Matthew Lenhar', 1212), ('Richard B Sander', 1038), ('Debra Perlingier', 933), ('Eric Bas', 926)]\n"
     ]
    }
   ],
   "source": [
    "#Top 10 mail senders at odd time:\n",
    "\n",
    "from operator import itemgetter   \n",
    "sort_Sender_CountOfMails=sorted(Sender_CountOfMails.items(), key=itemgetter(1),reverse=True)  #Sorting the dictionary\n",
    "print('Top 10 mail senders at odd time:', sort_Sender_CountOfMails[:10])\n"
   ]
  },
  {
   "cell_type": "code",
   "execution_count": 75,
   "metadata": {
    "collapsed": false
   },
   "outputs": [
    {
     "name": "stdout",
     "output_type": "stream",
     "text": [
      "Output Data is written to file.\n"
     ]
    }
   ],
   "source": [
    "#Writing Top 10 email senders at odd time to excel\n",
    "\n",
    "#Writing the output of the analysis to excel\n",
    "\n",
    "import xlsxwriter\n",
    "import os\n",
    "\n",
    "cwd = os.getcwd() #To access the path of current working directory\n",
    "path=cwd+'/ana_3'\n",
    "\n",
    "# Create an excel workbook if not present and add a worksheet.\n",
    "if not os.path.exists(path+'/'+'Analysis_3_Top_10_Odd_Time_Mail_Senders.xlsx'):\n",
    "    workbook = xlsxwriter.Workbook(path+'/'+'Analysis_3_Top_10_Odd_Time_Mail_Senders.xlsx')\n",
    "\n",
    "    #Adding worksheet to the workbook\n",
    "    worksheet = workbook.add_worksheet('Top10_Odd_Time_Mail_Senders')\n",
    "\n",
    "    #Adding headers(title) to the columns\n",
    "    worksheet.write(0, 0, 'Sender Name')\n",
    "    worksheet.write(0, 1, 'Total Number of Emails')\n",
    "\n",
    "    # Setting rows and columns indexes\n",
    "    row = 1\n",
    "    col = 0\n",
    "    length=10\n",
    "    dict_length=10\n",
    "\n",
    "    for i in range(dict_length):\n",
    "        worksheet.write(row, col, sort_Sender_CountOfMails[i][0])#Sender name\n",
    "        worksheet.write(row, col+1, sort_Sender_CountOfMails[i][1]) #Count of emails\n",
    "        i+=1\n",
    "        row+=1\n",
    "    workbook.close()\n",
    "    print('Output Data is written to file.')\n",
    "    \n",
    "else:\n",
    "    print('The file already exists.')"
   ]
  },
  {
   "cell_type": "code",
   "execution_count": null,
   "metadata": {
    "collapsed": true
   },
   "outputs": [],
   "source": []
  }
 ],
 "metadata": {
  "kernelspec": {
   "display_name": "Python [Root]",
   "language": "python",
   "name": "Python [Root]"
  },
  "language_info": {
   "codemirror_mode": {
    "name": "ipython",
    "version": 3
   },
   "file_extension": ".py",
   "mimetype": "text/x-python",
   "name": "python",
   "nbconvert_exporter": "python",
   "pygments_lexer": "ipython3",
   "version": "3.5.2"
  }
 },
 "nbformat": 4,
 "nbformat_minor": 0
}
