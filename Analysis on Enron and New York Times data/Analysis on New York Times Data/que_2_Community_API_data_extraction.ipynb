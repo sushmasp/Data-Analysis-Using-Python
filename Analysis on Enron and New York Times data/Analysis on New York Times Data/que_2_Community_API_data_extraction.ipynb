{
 "cells": [
  {
   "cell_type": "markdown",
   "metadata": {},
   "source": [
    "Extracting data from Community API files:"
   ]
  },
  {
   "cell_type": "code",
   "execution_count": 2,
   "metadata": {
    "collapsed": false
   },
   "outputs": [
    {
     "name": "stdout",
     "output_type": "stream",
     "text": [
      "Json dumped in folder\n"
     ]
    }
   ],
   "source": [
    "#Extracting data from Community API files:\n",
    "\n",
    "import os\n",
    "import argparse\n",
    "import requests\n",
    "import json\n",
    "import datetime\n",
    "\n",
    "#Function to ensure if a directory exists in the path or not;if not create one\n",
    "def ensure_dir(file_path,directory_name):\n",
    "    if not os.path.exists(file_path+\"/\"+directory_name):\n",
    "        os.mkdir(file_path+\"/\"+directory_name)\n",
    "    return file_path+\"/\"+directory_name\n",
    "\n",
    "cwd = os.getcwd() #To access the path of current working directory\n",
    "#print('CWD: ' ,cwd)\n",
    "root_dir_path=os.path.abspath(os.path.join(cwd, os.pardir)) #To get the parent directory of cwd\n",
    "#print('Root Directory Path: ', root_dir_path)\n",
    "parent_directory=\"Data\"\n",
    "\n",
    "basepath=ensure_dir(root_dir_path,parent_directory)\n",
    "\n",
    "data=[]\n",
    "h={'apikey': 'dea1f660f70f46acb72e8ba21ed38afb'}\n",
    "\n",
    "#Looping to all the calender days of 2016\n",
    "import datetime as dt\n",
    "d = dt.datetime(2016, 1,1)\n",
    "delta = datetime.timedelta(days=1)\n",
    "while d <= dt.datetime(2016, 12,31):\n",
    "    #print(d.strftime(\"%Y-%m-%d\"))\n",
    "    date=str(d) #d will return 2016-01-01 00:00:00\n",
    "    date_only=date[:10] #To extract date only i.e. 2016-01-01 \n",
    "    year=date[0:4]\n",
    "    month=date[5:7]\n",
    "    day=date[8:10]\n",
    "    \n",
    "    #Converting month number to month name\n",
    "    monthinteger=int(month)\n",
    "    month_name = datetime.date(1900, monthinteger, 1).strftime('%B')\n",
    "        \n",
    "    #Requesting data \n",
    "    data.append(requests.get('http://api.nytimes.com/svc/community/v3/user-content/by-date.json?date='+date_only,headers=h).json())\n",
    "   \n",
    "    #Creating hierarchy of folder structure with year,month name and day\n",
    "    \n",
    "    path1=ensure_dir(basepath,'NYT') #To check for a folder with name 'NYT'\n",
    "    path2=ensure_dir(path1,'Community_API') #To check for a folder with name 'Community_API'\n",
    "    path3=ensure_dir(path2,str(year)) #To check for a folder with year\n",
    "    path4=ensure_dir(path3,str(month_name)) #To check for a folder with month name\n",
    "    path5=ensure_dir(path4,str(day)) #To check for a folder with day\n",
    "\n",
    "    with open(path5+'/'+'Comm'+'_'+str(year)+'_'+str(month_name)+'_'+str(day)+'.json', 'w') as outfile:\n",
    "        json.dump(data, outfile)\n",
    "            \n",
    "    d += delta #Adding one day to date\n",
    "\n",
    "print(\"Json dumped in folder\")\n",
    "\n"
   ]
  },
  {
   "cell_type": "code",
   "execution_count": null,
   "metadata": {
    "collapsed": true
   },
   "outputs": [],
   "source": []
  }
 ],
 "metadata": {
  "anaconda-cloud": {},
  "kernelspec": {
   "display_name": "Python [Root]",
   "language": "python",
   "name": "Python [Root]"
  },
  "language_info": {
   "codemirror_mode": {
    "name": "ipython",
    "version": 3
   },
   "file_extension": ".py",
   "mimetype": "text/x-python",
   "name": "python",
   "nbconvert_exporter": "python",
   "pygments_lexer": "ipython3",
   "version": "3.5.2"
  }
 },
 "nbformat": 4,
 "nbformat_minor": 0
}
