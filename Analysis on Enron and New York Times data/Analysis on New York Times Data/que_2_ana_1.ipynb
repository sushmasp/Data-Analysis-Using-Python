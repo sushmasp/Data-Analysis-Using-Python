{
 "cells": [
  {
   "cell_type": "markdown",
   "metadata": {
    "collapsed": true
   },
   "source": [
    "Question-2:\n",
    "\n",
    "Analysis-1:\n",
    "\n",
    "Trending of articles based on Section during various months of 2016"
   ]
  },
  {
   "cell_type": "markdown",
   "metadata": {},
   "source": [
    "Archive API Data preparation for Analysis:\n",
    "Fetching only required data from Archive API file and writing it to excel"
   ]
  },
  {
   "cell_type": "code",
   "execution_count": 3,
   "metadata": {
    "collapsed": false,
    "scrolled": true
   },
   "outputs": [
    {
     "name": "stdout",
     "output_type": "stream",
     "text": [
      "Total number of files in the start_dir and its root directories: 12\n"
     ]
    }
   ],
   "source": [
    "#Fetching only required data from Archive API file and writing it to excel\n",
    "\n",
    "#To fetch all .json files from parent and its child directories\n",
    "\n",
    "import os\n",
    "from glob import glob\n",
    "import glob\n",
    "\n",
    "cwd_path = os.getcwd() \n",
    "root_dir_path=os.path.abspath(os.path.join(cwd_path, os.pardir)) #To get the parent directory of cwd\n",
    "root=root_dir_path.replace(\"\\\\\", \"/\")\n",
    "start_dir=root+'/data/NYT/Archive_API' #Parent directory\n",
    "\n",
    "all_files = []\n",
    "pattern   = \"*.json\"\n",
    "\n",
    "#To fetch all .json files present in parent directory and its child directories\n",
    "for dir,subdir,file in os.walk(start_dir):\n",
    "    all_files.extend(glob.glob(os.path.join(dir,pattern))) \n",
    "\n",
    "#print(all_files[:2])\n",
    "print('Total number of files in the start_dir and its root directories:',len(all_files))"
   ]
  },
  {
   "cell_type": "code",
   "execution_count": 13,
   "metadata": {
    "collapsed": false
   },
   "outputs": [],
   "source": [
    "global row #Global variable for storing row_index of for writing prepared data to excel\n",
    "row=1 #Starting index"
   ]
  },
  {
   "cell_type": "code",
   "execution_count": 14,
   "metadata": {
    "collapsed": false
   },
   "outputs": [],
   "source": [
    "#Function to fetch all the articles of a file and make an entry of required data in excel; \n",
    "#If two reporters have reported an article, then make two entries with each reporter name in each entry\n",
    "\n",
    "def read_file_article(filename):\n",
    "    import json\n",
    "    json_file=open(filename)\n",
    "    data=json.load(json_file)\n",
    "    \n",
    "    \n",
    "    # Setting rows and columns indexes\n",
    "    global row #Telling function that 'row' is a global variable and it has to be used\n",
    "    col = 0\n",
    "    \n",
    "    number_of_articles=len(data[0]['response']['docs'])\n",
    "    #print('Total number of articles:',number_of_articles)\n",
    "\n",
    "    for j in range(number_of_articles):\n",
    "\n",
    "        url=data[0]['response']['docs'][j]['web_url'] #Url of article\n",
    "        published_date=data[0]['response']['docs'][j]['pub_date'][:10] #Fetching only date\n",
    "        section_name=data[0]['response']['docs'][j]['section_name'] #Section of article\n",
    "        subsection_name=data[0]['response']['docs'][j]['subsection_name'] \n",
    "        document_type=data[0]['response']['docs'][j]['document_type'] \n",
    "        type_of_material=data[0]['response']['docs'][j]['type_of_material']\n",
    "        \n",
    "        if not data[0]['response']['docs'][j]['byline']:\n",
    "            reporter=' '\n",
    "        elif data[0]['response']['docs'][j]['byline']=='None':\n",
    "            reporter=' '\n",
    "        else:\n",
    "            number_of_reporters=len(data[0]['response']['docs'][j]['byline']['person']) #Number of reporters of article\n",
    "            for i in range(number_of_reporters):\n",
    "                if data[0]['response']['docs'][j]['byline']['person'][i]['role']=='reported': #If role is 'reported'\n",
    "                    if not 'firstname' in data[0]['response']['docs'][j]['byline']['person'][i].keys(): #If firstname exists\n",
    "                        reporter=' '\n",
    "                    else:\n",
    "                        reporter=data[0]['response']['docs'][j]['byline']['person'][i]['firstname']\n",
    "                        if 'middlename' in data[0]['response']['docs'][j]['byline']['person'][i].keys(): #If middle name is present, append to reporter\n",
    "                            reporter= reporter + ' '+ data[0]['response']['docs'][j]['byline']['person'][i]['middlename']\n",
    "                            if 'lastname' in data[0]['response']['docs'][j]['byline']['person'][i].keys():#If middle name and last name is present, append to reporter\n",
    "                                reporter= reporter +' '+ data[0]['response']['docs'][j]['byline']['person'][i]['lastname']\n",
    "                        elif 'lastname' in data[0]['response']['docs'][j]['byline']['person'][i].keys():#If last name is present, append to reporter\n",
    "                            reporter= reporter + ' '+ data[0]['response']['docs'][j]['byline']['person'][i]['lastname']\n",
    "                i+=1\n",
    "            \n",
    "                #Writing to excel sheet\n",
    "                worksheet.write(row, col, url)\n",
    "                worksheet.write(row, col+1, published_date)\n",
    "                worksheet.write(row, col+2, section_name)\n",
    "                worksheet.write(row, col+3, subsection_name)\n",
    "                worksheet.write(row, col+4, document_type)\n",
    "                worksheet.write(row, col+5, type_of_material)\n",
    "                worksheet.write(row, col+6, reporter)\n",
    "                \n",
    "    \n",
    "                row+=1\n",
    "    \n",
    "        j+=1\n",
    "        \n",
    "    \n",
    "\n",
    "                    "
   ]
  },
  {
   "cell_type": "code",
   "execution_count": 15,
   "metadata": {
    "collapsed": false
   },
   "outputs": [
    {
     "name": "stdout",
     "output_type": "stream",
     "text": [
      "File has been written.\n"
     ]
    }
   ],
   "source": [
    "#Writing the required data for analysis to excel\n",
    "\n",
    "import xlsxwriter\n",
    "import os\n",
    "\n",
    "# Create an excel workbook if not present and add a worksheet.\n",
    "if not os.path.exists('Archive_API_Data_For_Analysis.xlsx'):\n",
    "    workbook = xlsxwriter.Workbook('Archive_API_Data_For_Analysis.xlsx')\n",
    "    \n",
    "    #Adding worksheet to the workbook\n",
    "    worksheet = workbook.add_worksheet()\n",
    "\n",
    "    #Adding headers(title) to the columns\n",
    "    worksheet.write(0, 0, 'web url of the article') #web_url\n",
    "    worksheet.write(0, 1, 'Article Published Date') #pub_date\n",
    "    worksheet.write(0, 2, 'Section Name') #section_name\n",
    "    worksheet.write(0, 3, 'Subsection Name') #subsection_name\n",
    "    worksheet.write(0, 4, 'Document Type') #document_type\n",
    "    worksheet.write(0, 5, 'type of Material') #type_of_material\n",
    "    worksheet.write(0, 6, 'Reporter') #Reporter\n",
    "\n",
    "    #For each file, fetch the articles and make an entry of data required\n",
    "    for filename in all_files:  \n",
    "        read_file_article(filename)\n",
    "    \n",
    "    workbook.close()\n",
    "    print('File has been written.')\n",
    "    \n",
    "else:\n",
    "    print('The file already exists.')\n",
    "    \n"
   ]
  },
  {
   "cell_type": "markdown",
   "metadata": {},
   "source": [
    "Monthwise-Sectionwise aricles data"
   ]
  },
  {
   "cell_type": "code",
   "execution_count": 1,
   "metadata": {
    "collapsed": false
   },
   "outputs": [
    {
     "name": "stdout",
     "output_type": "stream",
     "text": [
      "Total number of rows: 61928\n",
      "Length of dictionary:12\n"
     ]
    }
   ],
   "source": [
    "#ANALYSIS-1:\n",
    "\n",
    "#Counting the number of articles in each section for each month of 2016 using the excel prepared for analysis of data\n",
    "\n",
    "import xlrd\n",
    "import datetime\n",
    "\n",
    "current_row = 0\n",
    "sheet_num = 0\n",
    "\n",
    "month_section_dictionary={} #Dictionary to store month-section-count of articles\n",
    "\n",
    "# path to the file you want to extract data from\n",
    "src = r'Archive_API_Data_For_Analysis.xlsx' #Using the excel we prepared for analysis\n",
    "\n",
    "book = xlrd.open_workbook(src)\n",
    "\n",
    "# select the sheet that the data resides in\n",
    "work_sheet = book.sheet_by_index(sheet_num)\n",
    "\n",
    "# get the total number of rows\n",
    "num_rows = work_sheet.nrows\n",
    "print('Total number of rows:',num_rows-1)\n",
    "\n",
    "\n",
    "for i in range(num_rows):\n",
    "    if i==0: #to skip the header\n",
    "        continue\n",
    "        \n",
    "    section = work_sheet.cell_value(i, 2) #Section name\n",
    "    published_month = work_sheet.cell_value(i, 1)[5:7] #Month\n",
    "    \n",
    "    #Converting month number to month name\n",
    "    monthinteger=int(published_month)\n",
    "    month = datetime.date(1900, monthinteger, 1).strftime('%B')\n",
    "    \n",
    "    present=0 #variable to check if section is present in the dictionary containing the list of sections or not\n",
    "    \n",
    "    if month in month_section_dictionary: #If month is present in dictionary\n",
    "        length=len(month_section_dictionary[month]) #Fetch the length of the list\n",
    "        if length==0: #If list is empty append a dictionary of section\n",
    "            month_section_dictionary[month].append({section:1})\n",
    "        else: #If list is not empty\n",
    "            for i in range(length):\n",
    "                if section in month_section_dictionary[month][i]: #Check for a section name in all entries of the list\n",
    "                    month_section_dictionary[month][i][section]+=1 #If present, increment the number\n",
    "                    present=1\n",
    "            if present==0:\n",
    "                month_section_dictionary[month].append({section:1}) #If not present, append section to the dictionary\n",
    "    else:\n",
    "        month_section_dictionary[month]=[] #If month is not present in dictionary, add it to dictionary\n",
    "        length=len(month_section_dictionary[month])\n",
    "        if length==0:\n",
    "            month_section_dictionary[month].append({section:1})\n",
    "\n",
    "    i+=1\n",
    "    \n",
    "print('Length of dictionary:'+str(len(month_section_dictionary)))\n",
    "\n",
    "    \n",
    "    \n",
    "\n"
   ]
  },
  {
   "cell_type": "code",
   "execution_count": 42,
   "metadata": {
    "collapsed": false
   },
   "outputs": [
    {
     "name": "stdout",
     "output_type": "stream",
     "text": [
      "Output Data is written to file.\n"
     ]
    }
   ],
   "source": [
    "#Writing the month-wise section-wise count of articles to excel\n",
    "\n",
    "#Writing the output of the analysis to excel\n",
    "\n",
    "import xlsxwriter\n",
    "import os\n",
    "\n",
    "cwd = os.getcwd() #To access the path of current working directory\n",
    "path=cwd+'/ana_1'\n",
    "\n",
    "# Create an excel workbook if not present and add a worksheet.\n",
    "if not os.path.exists(path+'/'+'Analysis_1_Ouput_Monthwise_Sectionwise_Data.xlsx'):\n",
    "    workbook = xlsxwriter.Workbook(path+'/'+'Analysis_1_Ouput_Monthwise_Sectionwise_Data.xlsx')\n",
    "\n",
    "    #Adding worksheet to the workbook\n",
    "    worksheet = workbook.add_worksheet('Monthwise_Sectionwise_Data')\n",
    "\n",
    "    #Adding headers(title) to the columns\n",
    "    worksheet.write(0, 0, 'Month')\n",
    "    worksheet.write(0, 1, 'Section')\n",
    "    worksheet.write(0, 2, 'Total Number of Articles')\n",
    "\n",
    "    # Setting rows and columns indexes\n",
    "    row = 1\n",
    "    col = 0\n",
    "\n",
    "    dict_length=len(month_section_dictionary)\n",
    "\n",
    "    for key in month_section_dictionary.keys():\n",
    "        worksheet.write(row, col, key) #Month name\n",
    "        #print(key) #Month name\n",
    "    \n",
    "        section_length=len(month_section_dictionary[key])\n",
    "        for i in range(section_length):\n",
    "            for sec_key,value in month_section_dictionary[key][i].items():\n",
    "                worksheet.write(row, col+1, sec_key) #Section name\n",
    "                worksheet.write(row, col+2, value) #Count of articles\n",
    "\n",
    "            row+=1\n",
    "    workbook.close()\n",
    "    print('Output Data is written to file.')\n",
    "    \n",
    "else:\n",
    "    print('The file already exists.')\n",
    "\n"
   ]
  },
  {
   "cell_type": "markdown",
   "metadata": {},
   "source": [
    "Top(Sections with most number of articles) and Bottom(Sections with least number of articles) sections of each Month"
   ]
  },
  {
   "cell_type": "code",
   "execution_count": 43,
   "metadata": {
    "collapsed": false
   },
   "outputs": [
    {
     "name": "stdout",
     "output_type": "stream",
     "text": [
      "Output Data is written to file.\n"
     ]
    }
   ],
   "source": [
    "#Top(Sections with most number of articles) and Bottom(Sections with least number of articles) sections of each Month\n",
    "\n",
    "#Writing the top and bottom sections of each month to excel\n",
    "\n",
    "import xlsxwriter\n",
    "import os\n",
    "import xlrd, xlwt\n",
    "from xlutils.copy import copy as xl_copy\n",
    "\n",
    "cwd = os.getcwd() #To access the path of current working directory\n",
    "path=cwd+'/ana_1'\n",
    "\n",
    "# Create an excel workbook if not present and add a worksheet.\n",
    "if not os.path.exists(path+'/'+'Analysis_1_Ouput_Top_Bottom_Section_Monthwise.xlsx'):\n",
    "    workbook = xlsxwriter.Workbook(path+'/'+'Analysis_1_Ouput_Top_Bottom_Section_Monthwise.xlsx')\n",
    "    \n",
    "    #Adding worksheet to the workbook\n",
    "    worksheet = workbook.add_worksheet('Top_Bottom_Section_Monthwise')\n",
    "    \n",
    "    #Adding headers(title) to the columns\n",
    "    worksheet.write(0, 0, 'Month')\n",
    "    worksheet.write(0, 1, 'Top Section with most number of articles')\n",
    "    worksheet.write(0, 2, 'Bottom section with least number of articles')\n",
    "\n",
    "    # Setting rows and columns indexes\n",
    "    row = 1\n",
    "    col = 0\n",
    "\n",
    "    for key in month_section_dictionary.keys():\n",
    "        new_dict={} #Dictionary to store the values of each month\n",
    "        section_length=len(month_section_dictionary[key])\n",
    "        worksheet.write(row,col,key) #Month name\n",
    "        for i in range(section_length):\n",
    "            for sec_key,value in month_section_dictionary[key][i].items():\n",
    "                if sec_key not in new_dict.keys():\n",
    "                    new_dict[sec_key]=value\n",
    "                    \n",
    "        #Top Sections(Sections with most number of articles)\n",
    "        #Descending order\n",
    "        from operator import itemgetter\n",
    "        desc_sort_dict=sorted(new_dict.items(), key=itemgetter(1),reverse=True) \n",
    "        worksheet.write(row,col+1,desc_sort_dict[0][0]+'('+str(desc_sort_dict[0][1])+')') #Top section name(number of articles)\n",
    "    \n",
    "        #Bottom Sections(Sections with least number of articles)\n",
    "        #Ascending order\n",
    "        from operator import itemgetter\n",
    "        asc_sort_dict=sorted(new_dict.items(), key=itemgetter(1),reverse=False) \n",
    "        worksheet.write(row,col+2,asc_sort_dict[0][0]+'('+str(asc_sort_dict[0][1])+')') #Bottom section name(number of articles)\n",
    "    \n",
    "        row+=1\n",
    "    \n",
    "    workbook.close()\n",
    "    print('Output Data is written to file.')\n",
    "    \n",
    "else:\n",
    "    print('The file already exists.')\n"
   ]
  }
 ],
 "metadata": {
  "anaconda-cloud": {},
  "kernelspec": {
   "display_name": "Python [Root]",
   "language": "python",
   "name": "Python [Root]"
  },
  "language_info": {
   "codemirror_mode": {
    "name": "ipython",
    "version": 3
   },
   "file_extension": ".py",
   "mimetype": "text/x-python",
   "name": "python",
   "nbconvert_exporter": "python",
   "pygments_lexer": "ipython3",
   "version": "3.5.2"
  }
 },
 "nbformat": 4,
 "nbformat_minor": 0
}
