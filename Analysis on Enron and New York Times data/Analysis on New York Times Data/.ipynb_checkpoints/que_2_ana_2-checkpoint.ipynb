{
 "cells": [
  {
   "cell_type": "markdown",
   "metadata": {},
   "source": [
    "Question-2:\n",
    "\n",
    "Analysis-2: \n",
    "\n",
    "Fetching the expertise and non-expertise section of each Reporter based on the number of articles he has written in each section"
   ]
  },
  {
   "cell_type": "code",
   "execution_count": 14,
   "metadata": {
    "collapsed": false
   },
   "outputs": [
    {
     "name": "stdout",
     "output_type": "stream",
     "text": [
      "Total number of rows: 61928\n",
      "Length of dictionary i.e. Number of unique reporters :5888\n"
     ]
    }
   ],
   "source": [
    "#ANALYSIS-2:\n",
    "\n",
    "#Counting the number of articles in each section of a reporter using the excel prepared for analysis of data\n",
    "\n",
    "import xlrd\n",
    "import datetime\n",
    "\n",
    "current_row = 0\n",
    "sheet_num = 0\n",
    "\n",
    "reporter_section_dictionary={} #Dictionary to store reporter-section-count of articles\n",
    "\n",
    "# path to the file you want to extract data from\n",
    "src = r'Archive_API_Data_For_Analysis.xlsx'  #Excel we prepared during analysis-1\n",
    "\n",
    "book = xlrd.open_workbook(src)\n",
    "\n",
    "# select the sheet that the data resids in\n",
    "work_sheet = book.sheet_by_index(sheet_num)\n",
    "\n",
    "# get the total number of rows\n",
    "num_rows = work_sheet.nrows\n",
    "print('Total number of rows:',num_rows-1)\n",
    "\n",
    "for i in range(num_rows):\n",
    "    if i==0: #to skip the header\n",
    "        continue\n",
    "        \n",
    "    reporter = work_sheet.cell_value(i, 6) #Reporter name\n",
    "    section = work_sheet.cell_value(i, 2) #Section name\n",
    "    \n",
    "    present=0 #Variable to check whether section is present in the list of sections of dictionary\n",
    "    \n",
    "    if len(reporter)>0:\n",
    "        if reporter in reporter_section_dictionary: #If reporter is present in dictionary\n",
    "            length=len(reporter_section_dictionary[reporter]) #Fetch the length of the list\n",
    "            if length==0: #If list is empty append a dictionary\n",
    "                reporter_section_dictionary[reporter].append({section:1})\n",
    "            else: #If list is not empty\n",
    "                for i in range(length):\n",
    "                    if section in reporter_section_dictionary[reporter][i]: #Check for a section name in all entries of the list\n",
    "                        reporter_section_dictionary[reporter][i][section]+=1 #If present, increment the number\n",
    "                        present=1\n",
    "                if present==0:\n",
    "                    reporter_section_dictionary[reporter].append({section:1}) #If not present, append a dictionary\n",
    "        else:\n",
    "            reporter_section_dictionary[reporter]=[] #If reporter is not present in dictionary, add him to dictionary\n",
    "            length=len(reporter_section_dictionary[reporter])\n",
    "            if length==0:\n",
    "                reporter_section_dictionary[reporter].append({section:1})\n",
    "\n",
    "    i+=1\n",
    "    \n",
    "    \n",
    "print('Length of dictionary i.e. Number of unique reporters :'+str(len(reporter_section_dictionary)))\n"
   ]
  },
  {
   "cell_type": "code",
   "execution_count": 15,
   "metadata": {
    "collapsed": false
   },
   "outputs": [
    {
     "name": "stdout",
     "output_type": "stream",
     "text": [
      "Output Data is written to file.\n"
     ]
    }
   ],
   "source": [
    "# Writing the output of analysis i.e. section-wise count of articles for each reporter\n",
    "\n",
    "#Writing the output of the analysis to excel\n",
    "\n",
    "import xlsxwriter\n",
    "import os\n",
    "\n",
    "cwd = os.getcwd() \n",
    "path=cwd+'/ana_2'\n",
    "\n",
    "# Create an excel workbook if not present and add a worksheet.\n",
    "if not os.path.exists(path+'/'+'Analysis_2_Ouput_Reporterwise_Sectionwise_Data.xlsx'):\n",
    "    workbook = xlsxwriter.Workbook(path+'/'+'Analysis_2_Ouput_Reporterwise_Sectionwise_Data.xlsx')\n",
    "\n",
    "    #Adding worksheet to the workbook\n",
    "    worksheet = workbook.add_worksheet('Reporterwise_Sectionwise_Data')\n",
    "\n",
    "    #Adding headers(title) to the columns\n",
    "    worksheet.write(0, 0, 'Reporter')\n",
    "    worksheet.write(0, 1, 'Section')\n",
    "    worksheet.write(0, 2, 'Total Number of Articles')\n",
    "\n",
    "    # Setting rows and columns indexes\n",
    "    row = 1\n",
    "    col = 0\n",
    "\n",
    "    dict_length=len(reporter_section_dictionary)\n",
    "\n",
    "    for key in reporter_section_dictionary.keys():\n",
    "        worksheet.write(row, col, key)#Reporter name\n",
    "    \n",
    "        section_length=len(reporter_section_dictionary[key])\n",
    "        for i in range(section_length):\n",
    "            for sec_key,value in reporter_section_dictionary[key][i].items():\n",
    "                worksheet.write(row, col+1, sec_key) #Section name\n",
    "                worksheet.write(row, col+2, value) #Count of articles\n",
    "\n",
    "            row+=1\n",
    "    workbook.close()\n",
    "    print('Output Data is written to file.')\n",
    "    \n",
    "else:\n",
    "    print('The file already exists.')"
   ]
  },
  {
   "cell_type": "markdown",
   "metadata": {},
   "source": [
    "Expertise(Section with most number of articles) and Non-Expertise(Section with least number of articles) sections of each Reporter"
   ]
  },
  {
   "cell_type": "code",
   "execution_count": 28,
   "metadata": {
    "collapsed": false
   },
   "outputs": [
    {
     "name": "stdout",
     "output_type": "stream",
     "text": [
      "Output Data is written to file.\n"
     ]
    }
   ],
   "source": [
    "#Expertise(Section with most number of articles)and Non-Expertise(Section with least number of articles)sections of each Reporter\n",
    "\n",
    "#Writing Expertise and Non-Expertise sections of each month to excel\n",
    "\n",
    "import xlsxwriter\n",
    "import os\n",
    "import xlrd, xlwt\n",
    "from xlutils.copy import copy as xl_copy\n",
    "\n",
    "cwd = os.getcwd() #To access the path of current working directory\n",
    "path=cwd+'/ana_2'\n",
    "\n",
    "# Create an excel workbook if not present and add a worksheet.\n",
    "if not os.path.exists(path+'/'+'Analysis_2_Ouput_Reporterwise_Expertise_Non-Expertise_Section_Data.xlsx'):\n",
    "    workbook = xlsxwriter.Workbook(path+'/'+'Analysis_2_Ouput_Reporterwise_Expertise_Non-Expertise_Section_Data.xlsx')\n",
    "    \n",
    "    #Adding worksheet to the workbook\n",
    "    worksheet = workbook.add_worksheet('Expert_Non-Expert_Section_Data')\n",
    "    \n",
    "    #Adding headers(title) to the columns\n",
    "    worksheet.write(0, 0, 'Reporter')\n",
    "    worksheet.write(0, 1, 'Expertise Section with most number of articles')\n",
    "    worksheet.write(0, 2, 'Non-Expertise section with least number of articles')\n",
    "\n",
    "    # Setting rows and columns indexes\n",
    "    row = 1\n",
    "    col = 0\n",
    "\n",
    "    for key in reporter_section_dictionary.keys():\n",
    "        new_dict={} #Dictionary to store the values of each reporter\n",
    "        cnt_list=[]\n",
    "        section_length=len(reporter_section_dictionary[key])\n",
    "        worksheet.write(row,col,key) #Reporter name\n",
    "        for i in range(section_length):\n",
    "            for sec_key,value in reporter_section_dictionary[key][i].items():\n",
    "                if sec_key not in new_dict.keys():\n",
    "                    new_dict[sec_key]=value\n",
    "                    cnt_list.append(value) #List fetching only the article counts\n",
    "                    \n",
    "        if all(cnt_list[0] == item for item in cnt_list)==False: #If list  contains different entries i.e. \n",
    "                                                            #if there are sections with unique article count\n",
    "                    \n",
    "            #Expertise Section\n",
    "            #Descending order\n",
    "            from operator import itemgetter\n",
    "            desc_sort_dict=sorted(new_dict.items(), key=itemgetter(1),reverse=True) \n",
    "            worksheet.write(row,col+1,desc_sort_dict[0][0]+'('+str(desc_sort_dict[0][1])+')') #Expertise section name(number of articles)\n",
    "            \n",
    "            #Non-Expertise Section\n",
    "            #Ascending order\n",
    "            from operator import itemgetter\n",
    "            asc_sort_dict=sorted(new_dict.items(), key=itemgetter(1),reverse=False) \n",
    "            worksheet.write(row,col+2,asc_sort_dict[0][0]+'('+str(asc_sort_dict[0][1])+')') #Non-Expertise section name(number of articles)\n",
    "    \n",
    "        else: #If there are sections with same article count, print both sections as his Expertise_Setion\n",
    "            value_to_be_entered=\"\" #Variable that stores all sections with same article count\n",
    "            #Descending order\n",
    "            from operator import itemgetter\n",
    "            desc_sort_dict=sorted(new_dict.items(), key=itemgetter(1),reverse=True) \n",
    "            for i in range(len(desc_sort_dict)):\n",
    "                value_to_be_entered+=desc_sort_dict[i][0]+'('+str(desc_sort_dict[i][1])+')'\n",
    "                if i<len(desc_sort_dict)-1:\n",
    "                    value_to_be_entered+=' , '\n",
    "\n",
    "            worksheet.write(row,col+1,value_to_be_entered) #Top section name(number of articles)\n",
    "    \n",
    "            \n",
    "        row+=1\n",
    "    \n",
    "    workbook.close()\n",
    "    print('Output Data is written to file.')\n",
    "    \n",
    "else:\n",
    "    print('The file already exists.')\n"
   ]
  }
 ],
 "metadata": {
  "anaconda-cloud": {},
  "kernelspec": {
   "display_name": "Python [Root]",
   "language": "python",
   "name": "Python [Root]"
  },
  "language_info": {
   "codemirror_mode": {
    "name": "ipython",
    "version": 3
   },
   "file_extension": ".py",
   "mimetype": "text/x-python",
   "name": "python",
   "nbconvert_exporter": "python",
   "pygments_lexer": "ipython3",
   "version": "3.5.2"
  }
 },
 "nbformat": 4,
 "nbformat_minor": 0
}
